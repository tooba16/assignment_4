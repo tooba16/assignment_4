{
  "nbformat": 4,
  "nbformat_minor": 0,
  "metadata": {
    "colab": {
      "provenance": [],
      "authorship_tag": "ABX9TyOuEga6ifGdpG3gdW5h4XT0",
      "include_colab_link": true
    },
    "kernelspec": {
      "name": "python3",
      "display_name": "Python 3"
    },
    "language_info": {
      "name": "python"
    }
  },
  "cells": [
    {
      "cell_type": "markdown",
      "metadata": {
        "id": "view-in-github",
        "colab_type": "text"
      },
      "source": [
        "<a href=\"https://colab.research.google.com/github/tooba16/assignment_4/blob/main/03_if_statements.ipynb\" target=\"_parent\"><img src=\"https://colab.research.google.com/assets/colab-badge.svg\" alt=\"Open In Colab\"/></a>"
      ]
    },
    {
      "cell_type": "code",
      "execution_count": 2,
      "metadata": {
        "colab": {
          "base_uri": "https://localhost:8080/"
        },
        "id": "O6cuGMtYKcOG",
        "outputId": "2c655597-eba9-487c-8d8f-629b179f0714"
      },
      "outputs": [
        {
          "output_type": "stream",
          "name": "stdout",
          "text": [
            "01_print_events\n",
            "Here is 20  even numbers are:  0\n",
            "Here is 20  even numbers are:  2\n",
            "Here is 20  even numbers are:  4\n",
            "Here is 20  even numbers are:  6\n",
            "Here is 20  even numbers are:  8\n",
            "Here is 20  even numbers are:  10\n",
            "Here is 20  even numbers are:  12\n",
            "Here is 20  even numbers are:  14\n",
            "Here is 20  even numbers are:  16\n",
            "Here is 20  even numbers are:  18\n",
            "Here is 20  even numbers are:  20\n",
            "Here is 20  even numbers are:  22\n",
            "Here is 20  even numbers are:  24\n",
            "Here is 20  even numbers are:  26\n",
            "Here is 20  even numbers are:  28\n",
            "Here is 20  even numbers are:  30\n",
            "Here is 20  even numbers are:  32\n",
            "Here is 20  even numbers are:  34\n",
            "Here is 20  even numbers are:  36\n",
            "Here is 20  even numbers are:  38\n",
            "Here is 20  even numbers are:  40\n",
            "Here is 20  even numbers are:  42\n",
            "Here is 20  even numbers are:  44\n",
            "Here is 20  even numbers are:  46\n",
            "Here is 20  even numbers are:  48\n",
            "Here is 20  even numbers are:  50\n",
            "Here is 20  even numbers are:  52\n",
            "Here is 20  even numbers are:  54\n",
            "Here is 20  even numbers are:  56\n",
            "Here is 20  even numbers are:  58\n",
            "Here is 20  even numbers are:  60\n",
            "Here is 20  even numbers are:  62\n",
            "Here is 20  even numbers are:  64\n",
            "Here is 20  even numbers are:  66\n",
            "Here is 20  even numbers are:  68\n",
            "Here is 20  even numbers are:  70\n",
            "Here is 20  even numbers are:  72\n",
            "Here is 20  even numbers are:  74\n",
            "Here is 20  even numbers are:  76\n",
            "Here is 20  even numbers are:  78\n"
          ]
        }
      ],
      "source": [
        "print(\"01_print_events\")\n",
        "\n",
        "def even():\n",
        "  for i in range(40):\n",
        "   print(\"Here is 20  even numbers are: \",i * 2 )\n",
        "\n",
        "\n",
        "if __name__ == '__main__':\n",
        "    even()"
      ]
    },
    {
      "cell_type": "code",
      "source": [
        "print(\"02_international_voting_age\")\n",
        "\n",
        "Peturksbouipo:int = 16\n",
        "Stanlau:int =  25\n",
        "Mayengua:int =  48\n",
        "\n",
        "age:int = int(input(\"How old are you?\"))\n",
        "def main():\n",
        "\n",
        "  if age >= Peturksbouipo:\n",
        "    print(f\"Your age is {age}.you are eligible to vote in Peturksbouipo!\")\n",
        "  else:\n",
        "    print(f\"Your age is {age}.you are not eligible to vote in Peturksbouipo!\")\n",
        "if age >= Stanlau:\n",
        "      print(f\"Your age is {age}.you are eligible to vote in Stanlau!\")\n",
        "else:\n",
        "      print(f\"Your age is {age}.you are not eligible to vote in Stanlau!\")\n",
        "if age >= Mayengua:\n",
        "    print(f\"Your age is {age}.you are eligible to vote in Mayengua!\")\n",
        "else:\n",
        "    print(f\"Your age is {age}.you are not eligible to vote in Mayengua!\")\n",
        "\n",
        "if __name__ == '__main__':\n",
        "    main()\n"
      ],
      "metadata": {
        "colab": {
          "base_uri": "https://localhost:8080/"
        },
        "id": "SiCPGzilMh9f",
        "outputId": "ec6196e2-b4ce-4166-a551-17bc3b16c77b"
      },
      "execution_count": 8,
      "outputs": [
        {
          "output_type": "stream",
          "name": "stdout",
          "text": [
            "02_international_voting_age\n",
            "How old are you?60\n",
            "Your age is 60.you are eligible to vote in Stanlau!\n",
            "Your age is 60.you are eligible to vote in Mayengua!\n",
            "Your age is 60.you are eligible to vote in Peturksbouipo!\n"
          ]
        }
      ]
    },
    {
      "cell_type": "code",
      "source": [
        "print(\"03_leap_year\")\n",
        "\n",
        "def leap_year():\n",
        "  year:int = int(input(\"Enter as year.\"))\n",
        "\n",
        "  if year % 4 == 0:\n",
        "    if year % 100 == 0:\n",
        "      if year % 400 == 0:\n",
        "        print(f\"{year} is a leap year.\")\n",
        "      else:\n",
        "        print(f\"{year} is not a leap year.\")\n",
        "    else:\n",
        "      print(f\"{year} is not a leap year.\")\n",
        "  else:\n",
        "    print(f\"{year} is not a leap year.\")\n",
        "\n",
        "if __name__== \"__main__\":\n",
        "  leap_year()"
      ],
      "metadata": {
        "colab": {
          "base_uri": "https://localhost:8080/"
        },
        "id": "Bc-BJm_USRzH",
        "outputId": "3fadfb27-838e-4bd8-d140-51debd9b9d40"
      },
      "execution_count": 9,
      "outputs": [
        {
          "output_type": "stream",
          "name": "stdout",
          "text": [
            "03_leap_year\n",
            "Enter as year.2035\n",
            "2035 is not a leap year.\n"
          ]
        }
      ]
    },
    {
      "cell_type": "code",
      "source": [
        "print(\"04_tall_enough_to_ride\")\n",
        "\n",
        "min_height:int = 50\n",
        "def main():\n",
        "  user:int = int(input(\"How tall are you? \"))\n",
        "  if user >= min_height:\n",
        "    print(\"you are tall enough to ride\")\n",
        "  else:\n",
        "    print(\"You're not tall enough to ride, but maybe next year!\")\n",
        "\n",
        "if __name__== \"__main__\":\n",
        "  main()\n"
      ],
      "metadata": {
        "colab": {
          "base_uri": "https://localhost:8080/"
        },
        "id": "XcCNalc1XF5a",
        "outputId": "803d6ddc-c923-479b-ae5d-1220b4fd77b3"
      },
      "execution_count": 16,
      "outputs": [
        {
          "output_type": "stream",
          "name": "stdout",
          "text": [
            "04_tall_enough_to_ride\n",
            "How tall are you? 7\n",
            "You're not tall enough to ride, but maybe next year!\n"
          ]
        }
      ]
    },
    {
      "cell_type": "code",
      "source": [
        "import random\n",
        "print(\"05_random_numbers\")\n",
        "\n",
        "def main():\n",
        "  for i in range(10):\n",
        "    num:list[int] = random.randint(1,100)\n",
        "    print(num)\n",
        "\n",
        "if __name__ == \"__main__\":\n",
        "  main()\n"
      ],
      "metadata": {
        "colab": {
          "base_uri": "https://localhost:8080/"
        },
        "id": "Rd3oJabgaPYc",
        "outputId": "42c016ce-fc03-4cde-f542-8a3978fcff7d"
      },
      "execution_count": 17,
      "outputs": [
        {
          "output_type": "stream",
          "name": "stdout",
          "text": [
            "05_random_numbers\n",
            "51\n",
            "67\n",
            "8\n",
            "16\n",
            "90\n",
            "12\n",
            "35\n",
            "49\n",
            "50\n",
            "8\n"
          ]
        }
      ]
    }
  ]
}