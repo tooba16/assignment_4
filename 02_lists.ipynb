{
  "nbformat": 4,
  "nbformat_minor": 0,
  "metadata": {
    "colab": {
      "provenance": [],
      "authorship_tag": "ABX9TyNcS+ggvKowXeBEKBAEhyCA",
      "include_colab_link": true
    },
    "kernelspec": {
      "name": "python3",
      "display_name": "Python 3"
    },
    "language_info": {
      "name": "python"
    }
  },
  "cells": [
    {
      "cell_type": "markdown",
      "metadata": {
        "id": "view-in-github",
        "colab_type": "text"
      },
      "source": [
        "<a href=\"https://colab.research.google.com/github/tooba16/assignment_4/blob/main/02_lists.ipynb\" target=\"_parent\"><img src=\"https://colab.research.google.com/assets/colab-badge.svg\" alt=\"Open In Colab\"/></a>"
      ]
    },
    {
      "cell_type": "code",
      "execution_count": null,
      "metadata": {
        "colab": {
          "base_uri": "https://localhost:8080/"
        },
        "id": "GN87yCVcz75d",
        "outputId": "f4c80e4b-5379-48c8-e112-8d110f6f9078"
      },
      "outputs": [
        {
          "output_type": "stream",
          "name": "stdout",
          "text": [
            "01_add_many_number\n",
            "15\n"
          ]
        }
      ],
      "source": [
        "print(\"01_add_many_number\")\n",
        "\n",
        "def add_number(numbers)->int:\n",
        "  num:int = 0\n",
        "  for i in numbers:\n",
        "    num += i\n",
        "  return num\n",
        "\n",
        "def main():\n",
        "  numbers:list[int] = [1,2,3,4,5]\n",
        "  sum = add_number(numbers)\n",
        "  print(sum)\n",
        "\n",
        "if __name__ == '__main__':\n",
        "    main()\n",
        "\n"
      ]
    },
    {
      "cell_type": "code",
      "source": [
        "print(\"02_double_list\")\n",
        "\n",
        "def main():\n",
        "  numbers:list[int] = [1,2,3,4,5]\n",
        "  for i in range(len(numbers)):\n",
        "    index = numbers[i]\n",
        "    numbers[i] = index * 2\n",
        "  print(numbers)\n",
        "\n",
        "if __name__ == '__main__':\n",
        "    main()"
      ],
      "metadata": {
        "colab": {
          "base_uri": "https://localhost:8080/"
        },
        "id": "Unyjf6n-6jJ3",
        "outputId": "10a5b3ff-633c-4792-943a-2f711696c9f8"
      },
      "execution_count": null,
      "outputs": [
        {
          "output_type": "stream",
          "name": "stdout",
          "text": [
            "02_double_list\n",
            "[2, 4, 6, 8, 10]\n"
          ]
        }
      ]
    },
    {
      "cell_type": "code",
      "source": [
        "print(\"04_flowing_with_data_structures\")\n",
        "\n",
        "def add_three_copies(list,data):\n",
        "  for i in range(3):\n",
        "    list.append(data)\n",
        "\n",
        "def main():\n",
        "  message = input(\"Enter a message to copy. \")\n",
        "  list = []\n",
        "  print(\"Before list: \",list)\n",
        "  add_three_copies(list,message)\n",
        "  print(\"After list: \",list)\n",
        "\n",
        "if __name__ == '__main__':\n",
        "    main()\n"
      ],
      "metadata": {
        "colab": {
          "base_uri": "https://localhost:8080/"
        },
        "id": "-SC8PI1FLaEe",
        "outputId": "d0d88fdd-5206-4886-d7dc-40ce48438024"
      },
      "execution_count": null,
      "outputs": [
        {
          "output_type": "stream",
          "name": "stdout",
          "text": [
            "04_flowing_with_data_structures\n",
            "Enter a message to copy. hello pakistan\n",
            "Before list:  []\n",
            "After list:  ['hello pakistan', 'hello pakistan', 'hello pakistan']\n"
          ]
        }
      ]
    },
    {
      "cell_type": "code",
      "source": [
        "print(\"05_get_first_element\")\n",
        "\n",
        "def get_first_element(list):\n",
        "  print(list[0])\n",
        "\n",
        "def get_list():\n",
        "  list=[]\n",
        "  element:str = input(\"Enter an element to add to the list. \")\n",
        "  while element !=\"\":\n",
        "    list.append(element)\n",
        "    element = input(\"Enter an element to add to the list. \")\n",
        "  return list\n",
        "\n",
        "def main():\n",
        "  list = get_list()\n",
        "  get_first_element(list)\n",
        "\n",
        "if __name__ == '__main__':\n",
        "    main()"
      ],
      "metadata": {
        "colab": {
          "base_uri": "https://localhost:8080/"
        },
        "id": "SCN-m1-TOqfo",
        "outputId": "3267f781-77bb-48f3-f55c-5f9d745eaf09"
      },
      "execution_count": null,
      "outputs": [
        {
          "output_type": "stream",
          "name": "stdout",
          "text": [
            "05_get_first_element\n",
            "Enter an element to add to the list. r\n",
            "Enter an element to add to the list. r\n",
            "Enter an element to add to the list. n\n",
            "Enter an element to add to the list. c\n",
            "Enter an element to add to the list. \n",
            "r\n"
          ]
        }
      ]
    },
    {
      "cell_type": "code",
      "source": [
        "print(\"06_get_last_element\")\n",
        "\n",
        "def get_last_element(list):\n",
        "  print(list[-1])\n",
        "\n",
        "def get_list():\n",
        "  list=[]\n",
        "  element:str = input(\"Enter an element to add to the list. \")\n",
        "  while element !=\"\":\n",
        "    list.append(element)\n",
        "    element = input(\"Enter an element to add to the list. \")\n",
        "  return list\n",
        "\n",
        "def main():\n",
        "  list = get_list()\n",
        "  get_last_element(list)\n",
        "\n",
        "if __name__ == '__main__':\n",
        "    main()\n"
      ],
      "metadata": {
        "colab": {
          "base_uri": "https://localhost:8080/"
        },
        "id": "ulvqlb1TtzmQ",
        "outputId": "3deb3349-2e16-46e9-d754-013441e40e95"
      },
      "execution_count": null,
      "outputs": [
        {
          "output_type": "stream",
          "name": "stdout",
          "text": [
            "06_get_last_element\n",
            "Enter an element to add to the list. r\n",
            "Enter an element to add to the list. f\n",
            "Enter an element to add to the list. \n",
            "f\n"
          ]
        }
      ]
    },
    {
      "cell_type": "code",
      "source": [
        "print(\"07_get_list\")\n",
        "\n",
        "def main():\n",
        "  list = []\n",
        "  val = input(\"Enter a value to add to the list. \")\n",
        "  while val:\n",
        "    list.append(val)\n",
        "    val = input(\"Enter a value to add to the list. \")\n",
        "  print(\"Here's the list: \",list)\n",
        "\n",
        "if __name__ == '__main__':\n",
        "    main()\n"
      ],
      "metadata": {
        "colab": {
          "base_uri": "https://localhost:8080/"
        },
        "id": "4k2QnrZ6v_Tl",
        "outputId": "a64cdd1b-121f-4331-9e21-7bc97b195946"
      },
      "execution_count": null,
      "outputs": [
        {
          "output_type": "stream",
          "name": "stdout",
          "text": [
            "07_get_list\n",
            "Enter a value to add to the list. ali\n",
            "Enter a value to add to the list. amna\n",
            "Enter a value to add to the list. hamma\n",
            "Enter a value to add to the list. nshs\n",
            "Enter a value to add to the list. tooba\n",
            "Enter a value to add to the list. \n",
            "Here's the list:  ['ali', 'amna', 'hamma', 'nshs', 'tooba']\n"
          ]
        }
      ]
    },
    {
      "cell_type": "code",
      "source": [
        "print(\"08_shorten\")\n",
        "\n",
        "MAX_LENGTH:int = 3\n",
        "def shorten(list):\n",
        "  while len(list) >= MAX_LENGTH:\n",
        "    last_element = list.pop()\n",
        "    print(last_element)\n",
        "\n",
        "def get_list():\n",
        "  list = []\n",
        "  element = input(\"Enter an elememt to add to the list: \")\n",
        "  while element !=\"\":\n",
        "    list.append(element)\n",
        "    element = input (\"Enter an elememt to add to the list: \")\n",
        "  return list\n",
        "\n",
        "def main():\n",
        "  list = get_list()\n",
        "  shorten(list)\n",
        "\n",
        "if __name__ == '__main__':\n",
        "    main()"
      ],
      "metadata": {
        "colab": {
          "base_uri": "https://localhost:8080/"
        },
        "id": "dlg2qCDI5h76",
        "outputId": "7a7d0fe6-6d36-451d-f257-07c31f805a9a"
      },
      "execution_count": 2,
      "outputs": [
        {
          "output_type": "stream",
          "name": "stdout",
          "text": [
            "08_shorten\n",
            "Enter an elememt to add to the list: cfd\n",
            "Enter an elememt to add to the list: ggd\n",
            "Enter an elememt to add to the list: ddgd\n",
            "Enter an elememt to add to the list: vgd\n",
            "Enter an elememt to add to the list: eses\n",
            "Enter an elememt to add to the list: \n",
            "eses\n",
            "vgd\n",
            "ddgd\n"
          ]
        }
      ]
    }
  ]
}